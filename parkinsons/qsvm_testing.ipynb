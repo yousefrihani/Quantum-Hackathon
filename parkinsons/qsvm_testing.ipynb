{
 "cells": [
  {
   "cell_type": "markdown",
   "id": "5a54e43d",
   "metadata": {},
   "source": [
    "# Testing with the noise"
   ]
  },
  {
   "cell_type": "code",
   "execution_count": 5,
   "id": "76db1a6c",
   "metadata": {},
   "outputs": [],
   "source": [
    "import pennylane as qml\n",
    "import numpy as np\n",
    "\n",
    "nqubits = 6\n",
    "dev = qml.device(\"default.mixed\", wires=nqubits)\n",
    "\n",
    "@qml.qnode(dev)\n",
    "def kernel_circ_noisy(a, b, noise_prob=0.01):\n",
    "    qml.AmplitudeEmbedding(a, wires=range(nqubits), pad_with=0, normalize=True)\n",
    "\n",
    "    for w in range(nqubits):\n",
    "        qml.DepolarizingChannel(noise_prob, wires=w)\n",
    "\n",
    "    \n",
    "    qml.adjoint(qml.AmplitudeEmbedding(b, wires=range(nqubits), pad_with=0, normalize=True))\n",
    "\n",
    "    \n",
    "    for w in range(nqubits):\n",
    "        qml.DepolarizingChannel(noise_prob, wires=w)\n",
    "\n",
    "    return qml.probs(wires=range(nqubits))\n"
   ]
  },
  {
   "cell_type": "code",
   "execution_count": 8,
   "id": "23e8d1c3",
   "metadata": {},
   "outputs": [],
   "source": [
    "def qkernel_test_noisy(X_test, X_train, noise_prob=0.01):\n",
    "    K_test = np.zeros((len(X_test), len(X_train)))\n",
    "    for i, a in enumerate(X_test):\n",
    "        print(f\"Row {i+1}/{len(X_test)}\")\n",
    "        for j, b in enumerate(X_train):\n",
    "            if j <= i:  \n",
    "                K_test[i, j] = K_test[j, i]\n",
    "                continue\n",
    "            K_test[i, j] = kernel_circ_noisy(a, b, noise_prob=noise_prob)[0]\n",
    "    np.save(\"quantum_kernel_test_noisy.npy\", K_test)\n",
    "    return K_test"
   ]
  },
  {
   "cell_type": "code",
   "execution_count": null,
   "id": "76fc1dbb",
   "metadata": {},
   "outputs": [
    {
     "name": "stdout",
     "output_type": "stream",
     "text": [
      "Row 1/152\n",
      "Row 2/152\n",
      "Row 3/152\n",
      "Row 4/152\n",
      "Row 5/152\n",
      "Row 6/152\n",
      "Row 7/152\n",
      "Row 8/152\n",
      "Row 9/152\n",
      "Row 10/152\n",
      "Row 11/152\n",
      "Row 12/152\n",
      "Row 13/152\n",
      "Row 14/152\n",
      "Row 15/152\n",
      "Row 16/152\n",
      "Row 17/152\n",
      "Row 18/152\n",
      "Row 19/152\n",
      "Row 20/152\n",
      "Row 21/152\n",
      "Row 22/152\n",
      "Row 23/152\n",
      "Row 24/152\n",
      "Row 25/152\n",
      "Row 26/152\n",
      "Row 27/152\n",
      "Row 28/152\n",
      "Row 29/152\n",
      "Row 30/152\n",
      "Row 31/152\n",
      "Row 32/152\n",
      "Row 33/152\n",
      "Row 34/152\n",
      "Row 35/152\n",
      "Row 36/152\n",
      "Row 37/152\n",
      "Row 38/152\n",
      "Row 39/152\n",
      "Row 40/152\n",
      "Row 41/152\n",
      "Row 42/152\n",
      "Row 43/152\n",
      "Row 44/152\n",
      "Row 45/152\n",
      "Row 46/152\n",
      "Row 47/152\n",
      "Row 48/152\n",
      "Row 49/152\n",
      "Row 50/152\n",
      "Row 51/152\n",
      "Row 52/152\n",
      "Row 53/152\n"
     ]
    }
   ],
   "source": [
    "from sklearn.svm import SVC\n",
    "\n",
    "K_train = np.load(\"quantum_kernel.npy\")\n",
    "y_train = np.load(\"labels.npy\")\n",
    "X_train = np.load(\"train_data.npy\")\n",
    "X_test = np.load(\"test_data.npy\")\n",
    "\n",
    "svm = SVC(kernel=\"precomputed\")\n",
    "svm.fit(K_train, y_train)\n",
    "\n",
    "K_test = qkernel_test_noisy(X_test, X_train, noise_prob=0.02) \n",
    "predictions = svm.predict(K_test)\n",
    "\n",
    "print(\"Predictions on noisy test set:\", predictions)\n"
   ]
  },
  {
   "cell_type": "markdown",
   "id": "b0ceaa60",
   "metadata": {},
   "source": [
    "# Testing without the noise"
   ]
  },
  {
   "cell_type": "code",
   "execution_count": null,
   "id": "9f16ece8",
   "metadata": {},
   "outputs": [],
   "source": [
    "svm = SVC(kernel=\"precomputed\")\n",
    "svm.fit(K_train, y_train)"
   ]
  },
  {
   "cell_type": "code",
   "execution_count": null,
   "id": "c8110e0a",
   "metadata": {},
   "outputs": [],
   "source": [
    "predictions = svm.predict(K_train)"
   ]
  },
  {
   "cell_type": "code",
   "execution_count": null,
   "id": "e5a87c14",
   "metadata": {},
   "outputs": [],
   "source": [
    "from sklearn.metrics import classification_report, confusion_matrix\n",
    "print(confusion_matrix(y_train, predictions))\n",
    "print(classification_report(y_train, predictions))"
   ]
  }
 ],
 "metadata": {
  "kernelspec": {
   "display_name": "Python 3",
   "language": "python",
   "name": "python3"
  },
  "language_info": {
   "codemirror_mode": {
    "name": "ipython",
    "version": 3
   },
   "file_extension": ".py",
   "mimetype": "text/x-python",
   "name": "python",
   "nbconvert_exporter": "python",
   "pygments_lexer": "ipython3",
   "version": "3.10.12"
  }
 },
 "nbformat": 4,
 "nbformat_minor": 5
}
