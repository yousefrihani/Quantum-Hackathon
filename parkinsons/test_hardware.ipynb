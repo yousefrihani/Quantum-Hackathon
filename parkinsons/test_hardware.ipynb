{
 "cells": [
  {
   "cell_type": "code",
   "execution_count": 5,
   "id": "67c1c0b4",
   "metadata": {},
   "outputs": [],
   "source": [
    "import pennylane as qml\n",
    "from tqdm import tqdm\n",
    "\n",
    "nqubits = 25\n",
    "dev = qml.device(\"lightning.gpu\", wires=nqubits)\n",
    "\n",
    "@qml.qnode(dev)\n",
    "def kernel_circ(a, b):\n",
    "    qml.AmplitudeEmbedding(a, wires=range(nqubits), pad_with=0, normalize=True)\n",
    "\n",
    "    qml.adjoint(qml.AmplitudeEmbedding(b, wires=range(nqubits), pad_with=0, normalize=True))\n",
    "    \n",
    "    return qml.probs(wires=range(nqubits))\n",
    "\n",
    "from sklearn.svm import SVC\n",
    "def qkernel(A, B):\n",
    "    K = np.zeros((len(A), len(B)))\n",
    "    for i, a in tqdm(enumerate(A), total=len(A)):\n",
    "        for j, b in enumerate(B):\n",
    "            if j < i:\n",
    "                K[i, j] = K[j, i]\n",
    "                continue\n",
    "            K[i, j] = kernel_circ(a, b)[0]\n",
    "        print(f\"  Finished row {i+1}\")\n",
    "    return K\n"
   ]
  },
  {
   "cell_type": "code",
   "execution_count": 7,
   "id": "332856c2",
   "metadata": {},
   "outputs": [],
   "source": [
    "from sklearn.feature_selection import VarianceThreshold\n",
    "from sklearn.preprocessing import StandardScaler\n",
    "import pandas as pd, numpy as np, matplotlib.pyplot as plt\n",
    "from sklearn.decomposition import PCA\n",
    "\n",
    "df = pd.read_csv('pd_speech_features.csv', header=1)\n",
    "\n",
    "\n",
    "selector = VarianceThreshold(threshold=0.1)\n",
    "selected_features = selector.fit_transform(df.drop(columns=['id', 'gender', 'class']))\n",
    "\n",
    "scaler = StandardScaler()\n",
    "scaled_features = scaler.fit_transform(selected_features)\n",
    "\n",
    "pca_scaled = PCA(n_components=150, svd_solver='full')\n",
    "pca_scaled.fit(scaled_features)\n",
    "\n",
    "variance_scaled = pca_scaled.explained_variance_ratio_.cumsum()\n",
    "\n",
    "\n",
    "transformed_scaled = pca_scaled.transform(scaled_features)\n",
    "\n",
    "df_transformed_scaled = pd.DataFrame(data=transformed_scaled, columns=[f\"PC{i+1}\" for i in range(transformed_scaled.shape[1])])\n",
    "\n",
    "\n",
    "X, y = pd.concat([df[[\"gender\"]], df_transformed_scaled], axis=1), df[\"class\"]"
   ]
  },
  {
   "cell_type": "code",
   "execution_count": 8,
   "id": "14f70a57",
   "metadata": {},
   "outputs": [],
   "source": [
    "svm = SVC(kernel=qkernel)"
   ]
  },
  {
   "cell_type": "code",
   "execution_count": 9,
   "id": "73264a85",
   "metadata": {},
   "outputs": [],
   "source": [
    "from sklearn.model_selection import train_test_split\n",
    "\n",
    "X_temp, X_test, y_temp, y_test = train_test_split(X, y, test_size=0.2, random_state=15)\n",
    "X_train, X_val, y_train, y_val = train_test_split(X_temp, y_temp, test_size=0.25, random_state=15)\n",
    "X_train, y_train = X_train.to_numpy(), y_train.to_numpy()\n",
    "X_test, y_test = X_test.to_numpy(), y_test.to_numpy()\n",
    "X_val, y_val = X_val.to_numpy(), y_val.to_numpy()"
   ]
  },
  {
   "cell_type": "code",
   "execution_count": null,
   "id": "e6b38d19",
   "metadata": {},
   "outputs": [
    {
     "name": "stderr",
     "output_type": "stream",
     "text": [
      "  0%|          | 0/453 [00:00<?, ?it/s]"
     ]
    }
   ],
   "source": [
    "svm.fit(X_train, y_train)"
   ]
  },
  {
   "cell_type": "code",
   "execution_count": null,
   "id": "2ca790c7",
   "metadata": {},
   "outputs": [],
   "source": []
  }
 ],
 "metadata": {
  "kernelspec": {
   "display_name": "Python 3",
   "language": "python",
   "name": "python3"
  },
  "language_info": {
   "codemirror_mode": {
    "name": "ipython",
    "version": 3
   },
   "file_extension": ".py",
   "mimetype": "text/x-python",
   "name": "python",
   "nbconvert_exporter": "python",
   "pygments_lexer": "ipython3",
   "version": "3.10.12"
  }
 },
 "nbformat": 4,
 "nbformat_minor": 5
}
